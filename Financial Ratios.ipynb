{
 "cells": [
  {
   "cell_type": "code",
   "execution_count": 1,
   "metadata": {
    "ExecuteTime": {
     "end_time": "2021-01-30T01:35:21.590028Z",
     "start_time": "2021-01-30T01:35:19.349587Z"
    }
   },
   "outputs": [
    {
     "data": {
      "text/html": [
       "<div>\n",
       "<style scoped>\n",
       "    .dataframe tbody tr th:only-of-type {\n",
       "        vertical-align: middle;\n",
       "    }\n",
       "\n",
       "    .dataframe tbody tr th {\n",
       "        vertical-align: top;\n",
       "    }\n",
       "\n",
       "    .dataframe thead th {\n",
       "        text-align: right;\n",
       "    }\n",
       "</style>\n",
       "<table border=\"1\" class=\"dataframe\">\n",
       "  <thead>\n",
       "    <tr style=\"text-align: right;\">\n",
       "      <th></th>\n",
       "      <th>ATT_Q3FY20</th>\n",
       "      <th>ATT_2019</th>\n",
       "      <th>ATT_2018</th>\n",
       "      <th>ATT_2017</th>\n",
       "      <th>TM_Q3FY20</th>\n",
       "      <th>TM_2019</th>\n",
       "      <th>TM_2018</th>\n",
       "      <th>TM_2017</th>\n",
       "    </tr>\n",
       "  </thead>\n",
       "  <tbody>\n",
       "    <tr>\n",
       "      <th>Leverage ratio</th>\n",
       "      <td>1.75</td>\n",
       "      <td>1.74</td>\n",
       "      <td>1.91</td>\n",
       "      <td>2.19</td>\n",
       "      <td>2.00</td>\n",
       "      <td>1.98</td>\n",
       "      <td>2.03</td>\n",
       "      <td>2.34</td>\n",
       "    </tr>\n",
       "    <tr>\n",
       "      <th>Debt service coverage ratio (DSCR)</th>\n",
       "      <td>1.44</td>\n",
       "      <td>1.38</td>\n",
       "      <td>1.43</td>\n",
       "      <td>0.47</td>\n",
       "      <td>0.87</td>\n",
       "      <td>4.93</td>\n",
       "      <td>2.42</td>\n",
       "      <td>1.49</td>\n",
       "    </tr>\n",
       "    <tr>\n",
       "      <th>Quick (acid test) ratio</th>\n",
       "      <td>0.16</td>\n",
       "      <td>0.18</td>\n",
       "      <td>0.08</td>\n",
       "      <td>0.62</td>\n",
       "      <td>0.33</td>\n",
       "      <td>0.12</td>\n",
       "      <td>0.12</td>\n",
       "      <td>0.11</td>\n",
       "    </tr>\n",
       "  </tbody>\n",
       "</table>\n",
       "</div>"
      ],
      "text/plain": [
       "                                    ATT_Q3FY20  ATT_2019  ATT_2018  ATT_2017  \\\n",
       "Leverage ratio                            1.75      1.74      1.91      2.19   \n",
       "Debt service coverage ratio (DSCR)        1.44      1.38      1.43      0.47   \n",
       "Quick (acid test) ratio                   0.16      0.18      0.08      0.62   \n",
       "\n",
       "                                    TM_Q3FY20  TM_2019  TM_2018  TM_2017  \n",
       "Leverage ratio                           2.00     1.98     2.03     2.34  \n",
       "Debt service coverage ratio (DSCR)       0.87     4.93     2.42     1.49  \n",
       "Quick (acid test) ratio                  0.33     0.12     0.12     0.11  "
      ]
     },
     "execution_count": 1,
     "metadata": {},
     "output_type": "execute_result"
    }
   ],
   "source": [
    "import matplotlib.pyplot as plt\n",
    "import numpy as np\n",
    "import pandas as pd\n",
    "\n",
    "lending = pd.read_csv(\"lending.csv\", index_col=0) \n",
    "lending.head()"
   ]
  },
  {
   "cell_type": "code",
   "execution_count": 2,
   "metadata": {
    "ExecuteTime": {
     "end_time": "2021-01-30T01:35:21.602228Z",
     "start_time": "2021-01-30T01:35:21.598191Z"
    }
   },
   "outputs": [],
   "source": [
    "# Common variables\n",
    "directory = \"figs/\"\n",
    "att_cols = ['ATT_Q3FY20', 'ATT_2019', 'ATT_2018', 'ATT_2017']\n",
    "tm_cols = ['TM_Q3FY20', 'TM_2019', 'TM_2018', 'TM_2017']"
   ]
  },
  {
   "cell_type": "code",
   "execution_count": 3,
   "metadata": {
    "ExecuteTime": {
     "end_time": "2021-01-30T01:35:21.614621Z",
     "start_time": "2021-01-30T01:35:21.605770Z"
    }
   },
   "outputs": [],
   "source": [
    "def get_minmax(att_data, tm_data):\n",
    "    return [np.minimum(att_data.min(), tm_data.min()), np.maximum(att_data.max(), tm_data.max())] \n",
    "\n",
    "def lineplot(data, ylim, axes, color=\"C{}\".format(0)):\n",
    "    axes.plot(data, color=color, marker=\".\")\n",
    "    axes.axis('off');\n",
    "    axes.set_ylim(ylim)\n",
    "\n",
    "def barplot(data, ylim, axes, color=\"C{}\".format(0)):\n",
    "    axes.bar(data.keys(), data, color=color)\n",
    "    axes.axis('off');\n",
    "    axes.set_ylim(ylim)    \n",
    "    \n",
    "def save_file(fig, title):\n",
    "    filename = directory + title\n",
    "    fig.savefig(filename)"
   ]
  },
  {
   "cell_type": "code",
   "execution_count": 4,
   "metadata": {
    "ExecuteTime": {
     "end_time": "2021-01-30T01:35:21.624725Z",
     "start_time": "2021-01-30T01:35:21.618380Z"
    }
   },
   "outputs": [],
   "source": [
    "lending_figsize=(1, 2)\n",
    "lending_indices = [\n",
    "    'Leverage ratio',\n",
    "    'Debt service coverage ratio (DSCR)',\n",
    "    'Quick (acid test) ratio'\n",
    "]"
   ]
  },
  {
   "cell_type": "code",
   "execution_count": 5,
   "metadata": {
    "ExecuteTime": {
     "end_time": "2021-01-30T01:35:21.956609Z",
     "start_time": "2021-01-30T01:35:21.631730Z"
    }
   },
   "outputs": [
    {
     "data": {
      "image/png": "[encoded data removed]",
      "text/plain": [
       "<Figure size 72x144 with 3 Axes>"
      ]
     },
     "metadata": {
      "needs_background": "light"
     },
     "output_type": "display_data"
    },
    {
     "data": {
      "image/png": "[encoded data removed]",
      "text/plain": [
       "<Figure size 72x144 with 3 Axes>"
      ]
     },
     "metadata": {
      "needs_background": "light"
     },
     "output_type": "display_data"
    }
   ],
   "source": [
    "num_subplots = len(lending_indices)\n",
    "att_lending_relative_fig, att_lending_relative_axes = plt.subplots(num_subplots, 1, figsize=lending_figsize)\n",
    "tm_lending_relative_fig, tm_lending_relative_axes = plt.subplots(num_subplots, 1, figsize=lending_figsize)\n",
    "\n",
    "att_lending_relative_fig.patch.set_visible(False)\n",
    "tm_lending_relative_fig.patch.set_visible(False)\n",
    "\n",
    "for idx, name in enumerate(lending_indices):\n",
    "    if name == 'Skip':\n",
    "        att_lending_absolute_axes[idx].remove()\n",
    "        tm_lending_absolute_axes[idx].remove()        \n",
    "    else:\n",
    "        att_data = pd.to_numeric(lending.loc[name, att_cols].iloc[:]);\n",
    "        tm_data = pd.to_numeric(lending.loc[name, tm_cols].iloc[:]);\n",
    "\n",
    "        ylim = get_minmax(att_data, tm_data)\n",
    "\n",
    "        lineplot(att_data, ylim, att_lending_relative_axes[idx])\n",
    "        lineplot(tm_data, ylim, tm_lending_relative_axes[idx])\n",
    "\n",
    "att_lending_relative_fig.tight_layout()\n",
    "tm_lending_relative_fig.tight_layout()\n",
    "        \n",
    "save_file(att_lending_relative_fig, 'att_lending_ratios')\n",
    "save_file(tm_lending_relative_fig, 'tm_lending_ratios')\n"
   ]
  },
  {
   "cell_type": "code",
   "execution_count": 6,
   "metadata": {
    "ExecuteTime": {
     "end_time": "2021-01-30T01:35:22.019399Z",
     "start_time": "2021-01-30T01:35:21.963852Z"
    }
   },
   "outputs": [],
   "source": [
    "ratios = pd.read_csv(\"ratios.csv\", index_col=0)"
   ]
  },
  {
   "cell_type": "code",
   "execution_count": 7,
   "metadata": {
    "ExecuteTime": {
     "end_time": "2021-01-30T01:35:22.036638Z",
     "start_time": "2021-01-30T01:35:22.021992Z"
    }
   },
   "outputs": [],
   "source": [
    "# Financial ratio trend charts\n",
    "ratio_figsize=(1, 6.5)\n",
    "\n",
    "ratio_indices = [\n",
    "    'Return on equity (ROE)',\n",
    "    'EPS',\n",
    "    'Current (liquidity) ratio',\n",
    "    'Gross profit margin',\n",
    "    'FCF',\n",
    "    'NPV',\n",
    "    'Skip',\n",
    "    'P/E',\n",
    "    'P/S',\n",
    "    'P/FCF',\n",
    "    'Skip',    \n",
    "    'Churn',\n",
    "    'ARPU',\n",
    "    'Subscriber growth',\n",
    "    'Customer satisfaction',\n",
    "    'Skip',\n",
    "    'Cash conversion cycle',\n",
    "    'Beta'\n",
    "]"
   ]
  },
  {
   "cell_type": "code",
   "execution_count": 8,
   "metadata": {
    "ExecuteTime": {
     "end_time": "2021-01-30T01:35:25.189158Z",
     "start_time": "2021-01-30T01:35:22.047836Z"
    },
    "scrolled": false
   },
   "outputs": [
    {
     "data": {
      "image/png": "[encoded data removed]",
      "text/plain": [
       "<Figure size 72x468 with 15 Axes>"
      ]
     },
     "metadata": {
      "needs_background": "light"
     },
     "output_type": "display_data"
    },
    {
     "data": {
      "image/png": "[encoded data removed]",
      "text/plain": [
       "<Figure size 72x468 with 15 Axes>"
      ]
     },
     "metadata": {
      "needs_background": "light"
     },
     "output_type": "display_data"
    },
    {
     "data": {
      "image/png": "[encoded data removed]",
      "text/plain": [
       "<Figure size 72x468 with 15 Axes>"
      ]
     },
     "metadata": {
      "needs_background": "light"
     },
     "output_type": "display_data"
    },
    {
     "data": {
      "image/png": "[encoded data removed]",
      "text/plain": [
       "<Figure size 72x468 with 15 Axes>"
      ]
     },
     "metadata": {
      "needs_background": "light"
     },
     "output_type": "display_data"
    }
   ],
   "source": [
    "num_subplots = len(ratio_indices)\n",
    "att_ratio_relative_fig, att_ratio_relative_axes = plt.subplots(num_subplots, 1, figsize=ratio_figsize)\n",
    "tm_ratio_relative_fig, tm_ratio_relative_axes = plt.subplots(num_subplots, 1, figsize=ratio_figsize)\n",
    "\n",
    "att_ratio_absolute_fig, att_ratio_absolute_axes = plt.subplots(num_subplots, 1, figsize=ratio_figsize)\n",
    "tm_ratio_absolute_fig, tm_ratio_absolute_axes = plt.subplots(num_subplots, 1, figsize=ratio_figsize)\n",
    "\n",
    "att_ratio_relative_fig.patch.set_visible(False)\n",
    "tm_ratio_relative_fig.patch.set_visible(False)\n",
    "att_ratio_absolute_fig.patch.set_visible(False)\n",
    "tm_ratio_absolute_fig.patch.set_visible(False)\n",
    "\n",
    "for idx, name in enumerate(ratio_indices):\n",
    "    if name == 'Skip':\n",
    "        att_ratio_relative_axes[idx].remove()\n",
    "        tm_ratio_relative_axes[idx].remove()\n",
    "        att_ratio_absolute_axes[idx].remove()\n",
    "        tm_ratio_absolute_axes[idx].remove()        \n",
    "    else:\n",
    "        att_data = pd.to_numeric(ratios.loc[name, att_cols].iloc[:]);\n",
    "        tm_data = pd.to_numeric(ratios.loc[name, tm_cols].iloc[:]);\n",
    "\n",
    "        att_ylim_absolute = get_minmax(att_data, att_data)\n",
    "        tm_ylim_absolute = get_minmax(tm_data, tm_data)\n",
    "        ylim_relative = get_minmax(att_data, tm_data)\n",
    "\n",
    "        barplot(att_data, ylim_relative, att_ratio_relative_axes[idx])\n",
    "        barplot(tm_data, ylim_relative, tm_ratio_relative_axes[idx])\n",
    "        lineplot(att_data, att_ylim_absolute, att_ratio_absolute_axes[idx], 'black')\n",
    "        lineplot(tm_data, tm_ylim_absolute, tm_ratio_absolute_axes[idx], 'black')\n",
    "\n",
    "att_ratio_relative_fig.tight_layout()\n",
    "tm_ratio_relative_fig.tight_layout()\n",
    "att_ratio_absolute_fig.tight_layout()\n",
    "tm_ratio_absolute_fig.tight_layout()\n",
    "        \n",
    "save_file(att_ratio_relative_fig, 'att_relative_ratios')\n",
    "save_file(tm_ratio_relative_fig, 'tm_relative_ratios')\n",
    "save_file(att_ratio_absolute_fig, 'att_absolute_ratios')\n",
    "save_file(tm_ratio_absolute_fig, 'tm_absolute_ratios')"
   ]
  },
  {
   "cell_type": "code",
   "execution_count": null,
   "metadata": {},
   "outputs": [],
   "source": []
  }
 ],
 "metadata": {
  "kernelspec": {
   "display_name": "Python 3",
   "language": "python",
   "name": "python3"
  },
  "language_info": {
   "codemirror_mode": {
    "name": "ipython",
    "version": 3
   },
   "file_extension": ".py",
   "mimetype": "text/x-python",
   "name": "python",
   "nbconvert_exporter": "python",
   "pygments_lexer": "ipython3",
   "version": "3.7.7"
  },
  "toc": {
   "base_numbering": 1,
   "nav_menu": {},
   "number_sections": true,
   "sideBar": true,
   "skip_h1_title": false,
   "title_cell": "Table of Contents",
   "title_sidebar": "Contents",
   "toc_cell": false,
   "toc_position": {},
   "toc_section_display": true,
   "toc_window_display": false
  }
 },
 "nbformat": 4,
 "nbformat_minor": 4
}
