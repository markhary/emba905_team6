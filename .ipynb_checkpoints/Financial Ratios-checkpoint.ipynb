{
 "cells": [
  {
   "cell_type": "code",
   "execution_count": 5,
   "metadata": {
    "ExecuteTime": {
     "end_time": "2021-01-29T21:24:32.539400Z",
     "start_time": "2021-01-29T21:24:32.507756Z"
    }
   },
   "outputs": [
    {
     "data": {
      "text/html": [
       "<div>\n",
       "<style scoped>\n",
       "    .dataframe tbody tr th:only-of-type {\n",
       "        vertical-align: middle;\n",
       "    }\n",
       "\n",
       "    .dataframe tbody tr th {\n",
       "        vertical-align: top;\n",
       "    }\n",
       "\n",
       "    .dataframe thead th {\n",
       "        text-align: right;\n",
       "    }\n",
       "</style>\n",
       "<table border=\"1\" class=\"dataframe\">\n",
       "  <thead>\n",
       "    <tr style=\"text-align: right;\">\n",
       "      <th></th>\n",
       "      <th>Unnamed: 0</th>\n",
       "      <th>Unnamed: 1</th>\n",
       "      <th>AT&amp;T</th>\n",
       "      <th>Unnamed: 3</th>\n",
       "      <th>Unnamed: 4</th>\n",
       "      <th>Unnamed: 5</th>\n",
       "      <th>T-Mobile</th>\n",
       "      <th>Unnamed: 7</th>\n",
       "      <th>Unnamed: 8</th>\n",
       "      <th>Unnamed: 9</th>\n",
       "    </tr>\n",
       "  </thead>\n",
       "  <tbody>\n",
       "    <tr>\n",
       "      <th>0</th>\n",
       "      <td>1. Return on Equity</td>\n",
       "      <td>Template</td>\n",
       "      <td>Q3FY20</td>\n",
       "      <td>2019</td>\n",
       "      <td>2018</td>\n",
       "      <td>2017</td>\n",
       "      <td>Q3FY20</td>\n",
       "      <td>2019</td>\n",
       "      <td>2018</td>\n",
       "      <td>2017</td>\n",
       "    </tr>\n",
       "    <tr>\n",
       "      <th>1</th>\n",
       "      <td>Return on equity (ROE)</td>\n",
       "      <td>#DIV/0!</td>\n",
       "      <td>5.0%</td>\n",
       "      <td>7.4%</td>\n",
       "      <td>10.3%</td>\n",
       "      <td>21.0%</td>\n",
       "      <td>3.1%</td>\n",
       "      <td>12.0%</td>\n",
       "      <td>11.7%</td>\n",
       "      <td>20.1%</td>\n",
       "    </tr>\n",
       "    <tr>\n",
       "      <th>2</th>\n",
       "      <td>NaN</td>\n",
       "      <td>NaN</td>\n",
       "      <td>NaN</td>\n",
       "      <td>NaN</td>\n",
       "      <td>NaN</td>\n",
       "      <td>NaN</td>\n",
       "      <td>NaN</td>\n",
       "      <td>NaN</td>\n",
       "      <td>NaN</td>\n",
       "      <td>NaN</td>\n",
       "    </tr>\n",
       "    <tr>\n",
       "      <th>3</th>\n",
       "      <td>2. Profitability</td>\n",
       "      <td>NaN</td>\n",
       "      <td>Q3FY20</td>\n",
       "      <td>2019</td>\n",
       "      <td>2018</td>\n",
       "      <td>2017</td>\n",
       "      <td>Q3FY20</td>\n",
       "      <td>2019</td>\n",
       "      <td>2018</td>\n",
       "      <td>2017</td>\n",
       "    </tr>\n",
       "    <tr>\n",
       "      <th>4</th>\n",
       "      <td>Net profit margin</td>\n",
       "      <td>#DIV/0!</td>\n",
       "      <td>7.7%</td>\n",
       "      <td>8.3%</td>\n",
       "      <td>11.7%</td>\n",
       "      <td>18.6%</td>\n",
       "      <td>4.1%</td>\n",
       "      <td>7.7%</td>\n",
       "      <td>6.7%</td>\n",
       "      <td>11.2%</td>\n",
       "    </tr>\n",
       "  </tbody>\n",
       "</table>\n",
       "</div>"
      ],
      "text/plain": [
       "               Unnamed: 0 Unnamed: 1    AT&T Unnamed: 3 Unnamed: 4 Unnamed: 5  \\\n",
       "0     1. Return on Equity   Template  Q3FY20       2019       2018       2017   \n",
       "1  Return on equity (ROE)    #DIV/0!    5.0%       7.4%      10.3%      21.0%   \n",
       "2                     NaN        NaN     NaN        NaN        NaN        NaN   \n",
       "3        2. Profitability        NaN  Q3FY20       2019       2018       2017   \n",
       "4       Net profit margin    #DIV/0!    7.7%       8.3%      11.7%      18.6%   \n",
       "\n",
       "  T-Mobile Unnamed: 7 Unnamed: 8 Unnamed: 9  \n",
       "0   Q3FY20       2019       2018       2017  \n",
       "1     3.1%      12.0%      11.7%      20.1%  \n",
       "2      NaN        NaN        NaN        NaN  \n",
       "3   Q3FY20       2019       2018       2017  \n",
       "4     4.1%       7.7%       6.7%      11.2%  "
      ]
     },
     "execution_count": 5,
     "metadata": {},
     "output_type": "execute_result"
    }
   ],
   "source": [
    "import matplotlib.pyplot as plt\n",
    "import numpy as np\n",
    "import pandas as pd\n",
    "\n",
    "lending = pd.read_csv(\"lending.csv\") \n",
    "lending.head()"
   ]
  },
  {
   "cell_type": "code",
   "execution_count": 6,
   "metadata": {
    "ExecuteTime": {
     "end_time": "2021-01-29T21:24:33.227688Z",
     "start_time": "2021-01-29T21:24:33.211528Z"
    }
   },
   "outputs": [],
   "source": [
    "def get_minmax(att_data, tm_data):\n",
    "    return [np.minimum(att_data.min(), tm_data.min()), np.maximum(att_data.max(), tm_data.max())] "
   ]
  },
  {
   "cell_type": "code",
   "execution_count": 7,
   "metadata": {
    "ExecuteTime": {
     "end_time": "2021-01-29T21:24:33.890830Z",
     "start_time": "2021-01-29T21:24:33.871144Z"
    }
   },
   "outputs": [],
   "source": [
    "debt_to_cash_flow_idx = 23\n",
    "debt_service_coverage_ratio_idx = 28\n",
    "quick_ratio_idx = 27\n",
    "\n",
    "att_lending_cols = [2, 3, 4, 5]\n",
    "tm_lending_cols = [6, 7, 8, 9]\n",
    "\n",
    "att_dcf = pd.to_numeric(lending.iloc[debt_to_cash_flow_idx, att_lending_cols]);\n",
    "att_dscr = pd.to_numeric(lending.iloc[debt_service_coverage_ratio_idx, att_lending_cols]);\n",
    "att_quick = pd.to_numeric(lending.iloc[quick_ratio_idx, att_lending_cols]);\n",
    "\n",
    "tm_dcf = pd.to_numeric(lending.iloc[debt_to_cash_flow_idx, tm_lending_cols]);\n",
    "tm_dscr = pd.to_numeric(lending.iloc[debt_service_coverage_ratio_idx, tm_lending_cols]);\n",
    "tm_quick = pd.to_numeric(lending.iloc[quick_ratio_idx, tm_lending_cols]);\n",
    "\n",
    "ylim_dcf = get_minmax(att_dcf, tm_dcf)\n",
    "ylim_dscr = get_minmax(att_dscr, tm_dscr)\n",
    "ylim_quick = get_minmax(att_quick, tm_quick)"
   ]
  },
  {
   "cell_type": "code",
   "execution_count": 8,
   "metadata": {
    "ExecuteTime": {
     "end_time": "2021-01-29T21:24:35.893693Z",
     "start_time": "2021-01-29T21:24:35.883382Z"
    }
   },
   "outputs": [],
   "source": [
    "lending_figsize=(1, 0.5)\n",
    "directory = \"figs/\"\n",
    "def lineplot(data, ylim, axes):\n",
    "    axes.plot(data)\n",
    "    axes.axis('off');\n",
    "    axes.set_ylim(ylim)\n",
    "\n",
    "def barplot(data, ylim, axes):\n",
    "    axes.bar(data.keys(), data)\n",
    "    axes.axis('off');\n",
    "    axes.set_ylim(ylim)    \n",
    "    \n",
    "def save_file(fig, title):\n",
    "    filename = directory + title\n",
    "    fig.savefig(filename)"
   ]
  },
  {
   "cell_type": "code",
   "execution_count": 9,
   "metadata": {
    "ExecuteTime": {
     "end_time": "2021-01-29T21:24:41.183561Z",
     "start_time": "2021-01-29T21:24:40.477976Z"
    }
   },
   "outputs": [
    {
     "data": {
      "image/png": "[encoded data removed]",
      "text/plain": [
       "<Figure size 72x36 with 1 Axes>"
      ]
     },
     "metadata": {
      "needs_background": "light"
     },
     "output_type": "display_data"
    },
    {
     "data": {
      "image/png": "[encoded data removed]",
      "text/plain": [
       "<Figure size 72x36 with 1 Axes>"
      ]
     },
     "metadata": {
      "needs_background": "light"
     },
     "output_type": "display_data"
    },
    {
     "data": {
      "image/png": "[encoded data removed]",
      "text/plain": [
       "<Figure size 72x36 with 1 Axes>"
      ]
     },
     "metadata": {
      "needs_background": "light"
     },
     "output_type": "display_data"
    },
    {
     "data": {
      "image/png": "[encoded data removed]",
      "text/plain": [
       "<Figure size 72x36 with 1 Axes>"
      ]
     },
     "metadata": {
      "needs_background": "light"
     },
     "output_type": "display_data"
    },
    {
     "data": {
      "image/png": "[encoded data removed]",
      "text/plain": [
       "<Figure size 72x36 with 1 Axes>"
      ]
     },
     "metadata": {
      "needs_background": "light"
     },
     "output_type": "display_data"
    },
    {
     "data": {
      "image/png": "[encoded data removed]",
      "text/plain": [
       "<Figure size 72x36 with 1 Axes>"
      ]
     },
     "metadata": {
      "needs_background": "light"
     },
     "output_type": "display_data"
    }
   ],
   "source": [
    "# AT&T Lending Trend Graphs\n",
    "fig, axes = plt.subplots(1, 1, figsize=lending_figsize)\n",
    "fig.patch.set_visible(False)\n",
    "lineplot(att_dcf, ylim_dcf, axes)\n",
    "save_file(fig, 'att_dcf')\n",
    "\n",
    "fig, axes = plt.subplots(1, 1, figsize=lending_figsize)\n",
    "fig.patch.set_visible(False)\n",
    "lineplot(att_dscr, ylim_dscr, axes)\n",
    "save_file(fig, 'att_dscr')\n",
    "\n",
    "fig, axes = plt.subplots(1, 1, figsize=lending_figsize)\n",
    "fig.patch.set_visible(False)\n",
    "lineplot(att_quick, ylim_quick, axes)\n",
    "save_file(fig, 'att_quick')\n",
    "\n",
    "# T-Mobile Lending Trend Graphs\n",
    "fig, axes = plt.subplots(1, 1, figsize=lending_figsize)\n",
    "fig.patch.set_visible(False)\n",
    "lineplot(tm_dcf, ylim_dcf, axes)\n",
    "save_file(fig, 'tm_dcf')\n",
    "\n",
    "fig, axes = plt.subplots(1, 1, figsize=lending_figsize)\n",
    "fig.patch.set_visible(False)\n",
    "lineplot(tm_dscr, ylim_dscr, axes)\n",
    "save_file(fig, 'tm_dscr')\n",
    "\n",
    "fig, axes = plt.subplots(1, 1, figsize=lending_figsize)\n",
    "fig.patch.set_visible(False)\n",
    "lineplot(tm_quick, ylim_quick, axes)\n",
    "save_file(fig, 'tm_quick')"
   ]
  },
  {
   "cell_type": "code",
   "execution_count": 11,
   "metadata": {
    "ExecuteTime": {
     "end_time": "2021-01-29T21:31:00.705763Z",
     "start_time": "2021-01-29T21:31:00.659049Z"
    }
   },
   "outputs": [
    {
     "data": {
      "text/html": [
       "<div>\n",
       "<style scoped>\n",
       "    .dataframe tbody tr th:only-of-type {\n",
       "        vertical-align: middle;\n",
       "    }\n",
       "\n",
       "    .dataframe tbody tr th {\n",
       "        vertical-align: top;\n",
       "    }\n",
       "\n",
       "    .dataframe thead th {\n",
       "        text-align: right;\n",
       "    }\n",
       "</style>\n",
       "<table border=\"1\" class=\"dataframe\">\n",
       "  <thead>\n",
       "    <tr style=\"text-align: right;\">\n",
       "      <th></th>\n",
       "      <th>ATT_Q3FY20</th>\n",
       "      <th>ATT_2019</th>\n",
       "      <th>ATT_2018</th>\n",
       "      <th>ATT_2017</th>\n",
       "      <th>TM_Q3FY20</th>\n",
       "      <th>TM_2019</th>\n",
       "      <th>TM_2018</th>\n",
       "      <th>TM_2017</th>\n",
       "    </tr>\n",
       "  </thead>\n",
       "  <tbody>\n",
       "    <tr>\n",
       "      <th>Return on equity (ROE)</th>\n",
       "      <td>4.969855e-02</td>\n",
       "      <td>7.415789e-02</td>\n",
       "      <td>1.029121e-01</td>\n",
       "      <td>2.101798e-01</td>\n",
       "      <td>3.092096e-02</td>\n",
       "      <td>1.204627e-01</td>\n",
       "      <td>1.168379e-01</td>\n",
       "      <td>2.010727e-01</td>\n",
       "    </tr>\n",
       "    <tr>\n",
       "      <th>EPS</th>\n",
       "      <td>1.272012e+00</td>\n",
       "      <td>1.964965e+00</td>\n",
       "      <td>2.827005e+00</td>\n",
       "      <td>4.595381e+00</td>\n",
       "      <td>2.326721e+00</td>\n",
       "      <td>4.046674e+00</td>\n",
       "      <td>3.397647e+00</td>\n",
       "      <td>5.451923e+00</td>\n",
       "    </tr>\n",
       "    <tr>\n",
       "      <th>Current (liquidity) ratio</th>\n",
       "      <td>8.389323e-01</td>\n",
       "      <td>7.946627e-01</td>\n",
       "      <td>7.983080e-01</td>\n",
       "      <td>9.724410e-01</td>\n",
       "      <td>9.810988e-01</td>\n",
       "      <td>7.440429e-01</td>\n",
       "      <td>8.065647e-01</td>\n",
       "      <td>7.742076e-01</td>\n",
       "    </tr>\n",
       "    <tr>\n",
       "      <th>Gross profit margin</th>\n",
       "      <td>3.769523e-01</td>\n",
       "      <td>3.798988e-01</td>\n",
       "      <td>3.684029e-01</td>\n",
       "      <td>3.661256e-01</td>\n",
       "      <td>4.059847e-01</td>\n",
       "      <td>4.413752e-01</td>\n",
       "      <td>4.264604e-01</td>\n",
       "      <td>4.165107e-01</td>\n",
       "    </tr>\n",
       "    <tr>\n",
       "      <th>FCF</th>\n",
       "      <td>1.976500e+10</td>\n",
       "      <td>2.903300e+10</td>\n",
       "      <td>2.235100e+10</td>\n",
       "      <td>1.760100e+10</td>\n",
       "      <td>-2.061000e+09</td>\n",
       "      <td>4.330000e+08</td>\n",
       "      <td>-1.642000e+09</td>\n",
       "      <td>2.725000e+09</td>\n",
       "    </tr>\n",
       "    <tr>\n",
       "      <th>NPV</th>\n",
       "      <td>3.618640e+11</td>\n",
       "      <td>6.690860e+11</td>\n",
       "      <td>5.919480e+11</td>\n",
       "      <td>5.304190e+11</td>\n",
       "      <td>0.000000e+00</td>\n",
       "      <td>1.486501e+10</td>\n",
       "      <td>0.000000e+00</td>\n",
       "      <td>1.085310e+11</td>\n",
       "    </tr>\n",
       "    <tr>\n",
       "      <th>P/E</th>\n",
       "      <td>2.241332e+01</td>\n",
       "      <td>1.988839e+01</td>\n",
       "      <td>1.009549e+01</td>\n",
       "      <td>8.301814e+00</td>\n",
       "      <td>4.915071e+01</td>\n",
       "      <td>1.937888e+01</td>\n",
       "      <td>1.861288e+01</td>\n",
       "      <td>1.184903e+01</td>\n",
       "    </tr>\n",
       "    <tr>\n",
       "      <th>P/S</th>\n",
       "      <td>1.723459e+00</td>\n",
       "      <td>1.643710e+00</td>\n",
       "      <td>1.179668e+00</td>\n",
       "      <td>1.543385e+00</td>\n",
       "      <td>2.039423e+00</td>\n",
       "      <td>1.493532e+00</td>\n",
       "      <td>1.241145e+00</td>\n",
       "      <td>1.323692e+00</td>\n",
       "    </tr>\n",
       "    <tr>\n",
       "      <th>P/FCF</th>\n",
       "      <td>1.099290e+01</td>\n",
       "      <td>1.025828e+01</td>\n",
       "      <td>9.012363e+00</td>\n",
       "      <td>1.407785e+01</td>\n",
       "      <td>-4.755290e+01</td>\n",
       "      <td>1.552100e+02</td>\n",
       "      <td>-3.273691e+01</td>\n",
       "      <td>1.972374e+01</td>\n",
       "    </tr>\n",
       "    <tr>\n",
       "      <th>Churn</th>\n",
       "      <td>9.900000e-03</td>\n",
       "      <td>1.180000e-02</td>\n",
       "      <td>1.120000e-02</td>\n",
       "      <td>1.070000e-02</td>\n",
       "      <td>8.500000e-03</td>\n",
       "      <td>8.900000e-03</td>\n",
       "      <td>1.010000e-02</td>\n",
       "      <td>1.180000e-02</td>\n",
       "    </tr>\n",
       "  </tbody>\n",
       "</table>\n",
       "</div>"
      ],
      "text/plain": [
       "                             ATT_Q3FY20      ATT_2019      ATT_2018  \\\n",
       "Return on equity (ROE)     4.969855e-02  7.415789e-02  1.029121e-01   \n",
       "EPS                        1.272012e+00  1.964965e+00  2.827005e+00   \n",
       "Current (liquidity) ratio  8.389323e-01  7.946627e-01  7.983080e-01   \n",
       "Gross profit margin        3.769523e-01  3.798988e-01  3.684029e-01   \n",
       "FCF                        1.976500e+10  2.903300e+10  2.235100e+10   \n",
       "NPV                        3.618640e+11  6.690860e+11  5.919480e+11   \n",
       "P/E                        2.241332e+01  1.988839e+01  1.009549e+01   \n",
       "P/S                        1.723459e+00  1.643710e+00  1.179668e+00   \n",
       "P/FCF                      1.099290e+01  1.025828e+01  9.012363e+00   \n",
       "Churn                      9.900000e-03  1.180000e-02  1.120000e-02   \n",
       "\n",
       "                               ATT_2017     TM_Q3FY20       TM_2019  \\\n",
       "Return on equity (ROE)     2.101798e-01  3.092096e-02  1.204627e-01   \n",
       "EPS                        4.595381e+00  2.326721e+00  4.046674e+00   \n",
       "Current (liquidity) ratio  9.724410e-01  9.810988e-01  7.440429e-01   \n",
       "Gross profit margin        3.661256e-01  4.059847e-01  4.413752e-01   \n",
       "FCF                        1.760100e+10 -2.061000e+09  4.330000e+08   \n",
       "NPV                        5.304190e+11  0.000000e+00  1.486501e+10   \n",
       "P/E                        8.301814e+00  4.915071e+01  1.937888e+01   \n",
       "P/S                        1.543385e+00  2.039423e+00  1.493532e+00   \n",
       "P/FCF                      1.407785e+01 -4.755290e+01  1.552100e+02   \n",
       "Churn                      1.070000e-02  8.500000e-03  8.900000e-03   \n",
       "\n",
       "                                TM_2018       TM_2017  \n",
       "Return on equity (ROE)     1.168379e-01  2.010727e-01  \n",
       "EPS                        3.397647e+00  5.451923e+00  \n",
       "Current (liquidity) ratio  8.065647e-01  7.742076e-01  \n",
       "Gross profit margin        4.264604e-01  4.165107e-01  \n",
       "FCF                       -1.642000e+09  2.725000e+09  \n",
       "NPV                        0.000000e+00  1.085310e+11  \n",
       "P/E                        1.861288e+01  1.184903e+01  \n",
       "P/S                        1.241145e+00  1.323692e+00  \n",
       "P/FCF                     -3.273691e+01  1.972374e+01  \n",
       "Churn                      1.010000e-02  1.180000e-02  "
      ]
     },
     "execution_count": 11,
     "metadata": {},
     "output_type": "execute_result"
    }
   ],
   "source": [
    "ratios = pd.read_csv(\"ratios.csv\", index_col=0) \n",
    "ratios.head(10)"
   ]
  },
  {
   "cell_type": "code",
   "execution_count": 16,
   "metadata": {
    "ExecuteTime": {
     "end_time": "2021-01-29T21:46:12.105396Z",
     "start_time": "2021-01-29T21:46:08.100350Z"
    },
    "scrolled": false
   },
   "outputs": [
    {
     "data": {
      "image/png": "[encoded data removed]",
      "text/plain": [
       "<Figure size 72x468 with 15 Axes>"
      ]
     },
     "metadata": {
      "needs_background": "light"
     },
     "output_type": "display_data"
    },
    {
     "data": {
      "image/png": "[encoded data removed]",
      "text/plain": [
       "<Figure size 72x468 with 18 Axes>"
      ]
     },
     "metadata": {
      "needs_background": "light"
     },
     "output_type": "display_data"
    }
   ],
   "source": [
    "# Financial ratio trend charts\n",
    "att_ratio_cols = ['ATT_Q3FY20', 'ATT_2019', 'ATT_2018', 'ATT_2017']\n",
    "tm_ratio_cols = ['TM_Q3FY20', 'TM_2019', 'TM_2018', 'TM_2017']\n",
    "ratio_figsize=(1, 6.5)\n",
    "\n",
    "indices = [\n",
    "    'Return on equity (ROE)',\n",
    "    'EPS',\n",
    "    'Current (liquidity) ratio',\n",
    "    'Gross profit margin',\n",
    "    'FCF',\n",
    "    'NPV',\n",
    "    'Skip',\n",
    "    'P/E',\n",
    "    'P/S',\n",
    "    'P/FCF',\n",
    "    'Skip',    \n",
    "    'Churn',\n",
    "    'ARPU',\n",
    "    'Subscriber growth',\n",
    "    'Customer satisfaction',\n",
    "    'Skip',\n",
    "    'Cash conversion cycle',\n",
    "    'Beta'\n",
    "]\n",
    "\n",
    "num_subplots = len(indices)\n",
    "att_ratio_fig, att_ratio_axes = plt.subplots(num_subplots, 1, figsize=ratio_figsize)\n",
    "tm_ratio_fig, tm_ratio_axes = plt.subplots(num_subplots, 1, figsize=ratio_figsize)\n",
    "\n",
    "#att_ratio_fig.patch.set_visible(False)\n",
    "#tm_ratio_fig.patch.set_visible(False)\n",
    "\n",
    "for idx, name in enumerate(indices):\n",
    "    if name == 'Skip':\n",
    "        att_ratio_axes[idx].remove()\n",
    "    else:\n",
    "        att_data = pd.to_numeric(ratios.loc[name, att_ratio_cols].iloc[:]);\n",
    "        tm_data = pd.to_numeric(ratios.loc[name, tm_ratio_cols].iloc[:]);\n",
    "\n",
    "        ylim = get_minmax(att_data, tm_data)\n",
    "        barplot(att_data, ylim, att_ratio_axes[idx])\n",
    "        barplot(tm_data, ylim, tm_ratio_axes[idx])\n",
    "\n",
    "att_ratio_fig.tight_layout()\n",
    "tm_ratio_fig.tight_layout()\n",
    "        \n",
    "save_file(att_ratio_fig, 'att_ratios')\n",
    "save_file(tm_ratio_fig, 'tm_ratios')"
   ]
  },
  {
   "cell_type": "code",
   "execution_count": null,
   "metadata": {},
   "outputs": [],
   "source": []
  }
 ],
 "metadata": {
  "kernelspec": {
   "display_name": "Python 3",
   "language": "python",
   "name": "python3"
  },
  "language_info": {
   "codemirror_mode": {
    "name": "ipython",
    "version": 3
   },
   "file_extension": ".py",
   "mimetype": "text/x-python",
   "name": "python",
   "nbconvert_exporter": "python",
   "pygments_lexer": "ipython3",
   "version": "3.7.7"
  },
  "toc": {
   "base_numbering": 1,
   "nav_menu": {},
   "number_sections": true,
   "sideBar": true,
   "skip_h1_title": false,
   "title_cell": "Table of Contents",
   "title_sidebar": "Contents",
   "toc_cell": false,
   "toc_position": {},
   "toc_section_display": true,
   "toc_window_display": false
  }
 },
 "nbformat": 4,
 "nbformat_minor": 4
}
